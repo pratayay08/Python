{
 "cells": [
  {
   "cell_type": "code",
   "execution_count": 12,
   "metadata": {},
   "outputs": [
    {
     "name": "stdout",
     "output_type": "stream",
     "text": [
      "correct statement\n",
      "16\n"
     ]
    }
   ],
   "source": [
    "x=8\n",
    "\n",
    "if x > 4:\n",
    "    print(\"correct statement\")\n",
    "    x=16\n",
    "else :\n",
    "    print(\"wrong statement\")\n",
    "    \n",
    "print(x)"
   ]
  },
  {
   "cell_type": "code",
   "execution_count": 18,
   "metadata": {},
   "outputs": [
    {
     "name": "stdout",
     "output_type": "stream",
     "text": [
      "get inside elif\n"
     ]
    }
   ],
   "source": [
    "x=8\n",
    "\n",
    "if x < 4:\n",
    "    print(\"correct statement\")\n",
    "elif x >= 8:\n",
    "    print(\"get inside elif\")"
   ]
  },
  {
   "cell_type": "code",
   "execution_count": 20,
   "metadata": {},
   "outputs": [
    {
     "name": "stdout",
     "output_type": "stream",
     "text": [
      "get inside elif\n"
     ]
    }
   ],
   "source": [
    "x=8\n",
    "\n",
    "if x < 4:\n",
    "    print(\"correct statement\")\n",
    "elif x <= 9:\n",
    "    print(\"get inside elif\")\n",
    "else :\n",
    "    print(\"get inside else\")"
   ]
  },
  {
   "cell_type": "code",
   "execution_count": 21,
   "metadata": {},
   "outputs": [
    {
     "name": "stdout",
     "output_type": "stream",
     "text": [
      "get inside else\n"
     ]
    }
   ],
   "source": [
    "x=8\n",
    "\n",
    "if x < 4:\n",
    "    print(\"correct statement\")\n",
    "elif x >= 9:\n",
    "    print(\"get inside elif\")\n",
    "else :\n",
    "    print(\"get inside else\")"
   ]
  },
  {
   "cell_type": "code",
   "execution_count": null,
   "metadata": {},
   "outputs": [],
   "source": []
  }
 ],
 "metadata": {
  "kernelspec": {
   "display_name": "Python 3",
   "language": "python",
   "name": "python3"
  },
  "language_info": {
   "codemirror_mode": {
    "name": "ipython",
    "version": 3
   },
   "file_extension": ".py",
   "mimetype": "text/x-python",
   "name": "python",
   "nbconvert_exporter": "python",
   "pygments_lexer": "ipython3",
   "version": "3.7.4"
  }
 },
 "nbformat": 4,
 "nbformat_minor": 2
}
